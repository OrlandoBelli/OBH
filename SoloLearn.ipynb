{
  "cells": [
    {
      "cell_type": "markdown",
      "metadata": {
        "id": "view-in-github",
        "colab_type": "text"
      },
      "source": [
        "<a href=\"https://colab.research.google.com/github/OrlandoBelli/OBH/blob/master/SoloLearn.ipynb\" target=\"_parent\"><img src=\"https://colab.research.google.com/assets/colab-badge.svg\" alt=\"Open In Colab\"/></a>"
      ]
    },
    {
      "cell_type": "code",
      "execution_count": null,
      "metadata": {
        "id": "l68DVBn1TZb-"
      },
      "outputs": [],
      "source": [
        "def print_numbers():\n",
        "  print(1)\n",
        "  print(2)\n",
        "  return\n",
        "  print(4)\n",
        "  print(6)"
      ]
    },
    {
      "cell_type": "code",
      "execution_count": null,
      "metadata": {
        "colab": {
          "base_uri": "https://localhost:8080/"
        },
        "id": "FixDulMGTftm",
        "outputId": "dd4e2b8b-e92a-4c32-d955-72a775082fce"
      },
      "outputs": [
        {
          "name": "stdout",
          "output_type": "stream",
          "text": [
            "1\n",
            "2\n"
          ]
        }
      ],
      "source": [
        "print_numbers()"
      ]
    },
    {
      "cell_type": "code",
      "execution_count": null,
      "metadata": {
        "colab": {
          "base_uri": "https://localhost:8080/"
        },
        "id": "h4S6mQE6Th3E",
        "outputId": "40d6debc-d944-42ab-c459-ee82f7ad1c9e"
      },
      "outputs": [
        {
          "name": "stdout",
          "output_type": "stream",
          "text": [
            "0\n"
          ]
        }
      ],
      "source": [
        "def print_nums(x):\n",
        "  for i in range(x):\n",
        "    print(i)\n",
        "    return\n",
        "print_nums(10)"
      ]
    },
    {
      "cell_type": "code",
      "execution_count": null,
      "metadata": {
        "colab": {
          "base_uri": "https://localhost:8080/"
        },
        "id": "eDtyEHWFUyS2",
        "outputId": "840c9191-67aa-4812-e807-663fb4af2fba"
      },
      "outputs": [
        {
          "name": "stdout",
          "output_type": "stream",
          "text": [
            "6\n"
          ]
        }
      ],
      "source": [
        "def func(x):\n",
        "  res = 0\n",
        "  for i in range(x):\n",
        "     res += i\n",
        "  return res\n",
        "\n",
        "print(func(4))"
      ]
    },
    {
      "cell_type": "code",
      "execution_count": null,
      "metadata": {
        "colab": {
          "base_uri": "https://localhost:8080/"
        },
        "id": "FnMAA6XOVO49",
        "outputId": "bc58ebf7-94c2-4b32-aef1-812ae23f77bf"
      },
      "outputs": [
        {
          "name": "stdout",
          "output_type": "stream",
          "text": [
            "hi there\n",
            "friend\n",
            "Word not found\n"
          ]
        }
      ],
      "source": [
        "text = input()\n",
        "word = input()\n",
        "\n",
        "def search(text, word):\n",
        "  if word in text:\n",
        "    return 'Word found'\n",
        "  else:\n",
        "    return 'Word not found'\n",
        "\n",
        "print(search(text, word))"
      ]
    },
    {
      "cell_type": "code",
      "execution_count": null,
      "metadata": {
        "colab": {
          "base_uri": "https://localhost:8080/"
        },
        "id": "ttkKb55uVqNH",
        "outputId": "4848819e-683f-4529-e041-6996f20d0a14"
      },
      "outputs": [
        {
          "name": "stdout",
          "output_type": "stream",
          "text": [
            "Found it\n",
            "None\n"
          ]
        }
      ],
      "source": [
        "print(search(text, word))"
      ]
    },
    {
      "cell_type": "code",
      "execution_count": null,
      "metadata": {
        "id": "YyKO4cPiaJCI"
      },
      "outputs": [],
      "source": [
        "N = 100\n",
        "\n",
        "range(0,N+1)\n",
        "\n",
        "map(lambda x: x/divisor, lista)"
      ]
    },
    {
      "cell_type": "code",
      "execution_count": null,
      "metadata": {
        "colab": {
          "background_save": true,
          "base_uri": "https://localhost:8080/"
        },
        "id": "V-o1nK-Taz13",
        "outputId": "f7dbce18-db37-4b0f-f905-8e693443b640"
      },
      "outputs": [
        {
          "data": {
            "text/plain": [
              "64261"
            ]
          },
          "execution_count": 12,
          "metadata": {},
          "output_type": "execute_result"
        }
      ],
      "source": [
        "N = 358\n",
        "int(N*(N+1)/2)"
      ]
    },
    {
      "cell_type": "code",
      "execution_count": 2,
      "metadata": {
        "id": "bHTEtKDqbCev",
        "colab": {
          "base_uri": "https://localhost:8080/"
        },
        "outputId": "24386fa1-2fee-4453-ffb6-fed59783977e"
      },
      "outputs": [
        {
          "output_type": "stream",
          "name": "stdout",
          "text": [
            "17\n",
            "1\n",
            "Solo\n",
            "Learn\n",
            "7\n",
            "Solo\n",
            "11\n",
            "13\n",
            "SoloLearn\n"
          ]
        }
      ],
      "source": [
        "n = int(input())\n",
        "\n",
        "for x in range(1, n):\n",
        "    if x % 2 == 0:\n",
        "      continue\n",
        "    if x % 3 == 0 and x % 5 == 0:\n",
        "        print(\"SoloLearn\")\n",
        "    elif x % 3 == 0:\n",
        "        print(\"Solo\")\n",
        "    elif x % 5 == 0:\n",
        "        print(\"Learn\")\n",
        "    else:\n",
        "        print(x)"
      ]
    }
  ],
  "metadata": {
    "colab": {
      "provenance": [],
      "authorship_tag": "ABX9TyPhxC0BjjTaVsLIu91fZaBU",
      "include_colab_link": true
    },
    "kernelspec": {
      "display_name": "Python 3",
      "name": "python3"
    },
    "language_info": {
      "name": "python"
    }
  },
  "nbformat": 4,
  "nbformat_minor": 0
}